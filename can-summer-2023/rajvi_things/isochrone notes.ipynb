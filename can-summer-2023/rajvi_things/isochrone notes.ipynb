{
 "cells": [
  {
   "cell_type": "markdown",
   "id": "b03a6db5-757f-489b-8f07-ae20193f0bc2",
   "metadata": {},
   "source": [
    "import requests\n",
    "\n",
    "from .mapbox_token import my_token # the token appeared in a separate python file\n",
    "\n",
    "make account on docs mapbox api isochrone\n",
    "\n",
    "from mapbox_token import MapboxAPI\n",
    "api = MapboxAPI(token)"
   ]
  }
 ],
 "metadata": {
  "kernelspec": {
   "display_name": "Python 3 (ipykernel)",
   "language": "python",
   "name": "python3"
  },
  "language_info": {
   "codemirror_mode": {
    "name": "ipython",
    "version": 3
   },
   "file_extension": ".py",
   "mimetype": "text/x-python",
   "name": "python",
   "nbconvert_exporter": "python",
   "pygments_lexer": "ipython3",
   "version": "3.9.7"
  }
 },
 "nbformat": 4,
 "nbformat_minor": 5
}
