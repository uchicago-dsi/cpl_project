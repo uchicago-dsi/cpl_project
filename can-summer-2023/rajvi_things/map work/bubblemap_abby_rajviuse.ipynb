{
 "cells": [
  {
   "cell_type": "code",
   "execution_count": 174,
   "id": "ca0cd912-445b-4ba6-8eca-bca71e01d5fd",
   "metadata": {
    "tags": []
   },
   "outputs": [],
   "source": [
    "#temporary seperate import until plotly install issue is addressed.\n",
    "import pandas as pd\n",
    "import numpy as np"
   ]
  },
  {
   "cell_type": "code",
   "execution_count": 175,
   "id": "01b87fd0-fcce-4951-8ef1-f7b39751d0a7",
   "metadata": {
    "tags": []
   },
   "outputs": [],
   "source": [
    "#importing dependencies for workbook\n",
    "import pandas as pd\n",
    "import plotly.express as px"
   ]
  },
  {
   "cell_type": "code",
   "execution_count": 176,
   "id": "4cbb5d08-9492-4c6d-b873-91bdef1a05c0",
   "metadata": {
    "tags": []
   },
   "outputs": [],
   "source": [
    "#importing csv files for computing branch metrics and branch locations\n",
    "branchMetrics = pd.read_csv('../data/clean/branch_metrics.csv')\n",
    "branchLocations = pd.read_csv('../data/clean/branches.csv')\n",
    "\n",
    "#checking branchMetrics\n",
    "#branchMetrics.head()"
   ]
  },
  {
   "cell_type": "code",
   "execution_count": 177,
   "id": "a17165cd-3d27-4f2e-a885-06d5120347a2",
   "metadata": {
    "tags": []
   },
   "outputs": [],
   "source": [
    "#checking branchLocations\n",
    "#branchLocations.head()"
   ]
  },
  {
   "cell_type": "code",
   "execution_count": 178,
   "id": "cad70112-55e1-4393-9dab-a24b53235227",
   "metadata": {
    "tags": []
   },
   "outputs": [],
   "source": [
    "#Removing rows with no data\n",
    "#checking shape before dropping na values\n",
    "#print(branchMetrics.shape)\n",
    "#branchMetrics = branchMetrics.dropna(subset = ['COMPUTER_SESSIONS', 'VISITORS'])\n",
    "#checking data after dropping na values for computer and visitors column. \n",
    "#branchMetrics"
   ]
  },
  {
   "cell_type": "code",
   "execution_count": 179,
   "id": "e724f8cf-5b62-47b6-8642-a0bb876bb81f",
   "metadata": {
    "tags": []
   },
   "outputs": [
    {
     "data": {
      "text/html": [
       "<div>\n",
       "<style scoped>\n",
       "    .dataframe tbody tr th:only-of-type {\n",
       "        vertical-align: middle;\n",
       "    }\n",
       "\n",
       "    .dataframe tbody tr th {\n",
       "        vertical-align: top;\n",
       "    }\n",
       "\n",
       "    .dataframe thead th {\n",
       "        text-align: right;\n",
       "    }\n",
       "</style>\n",
       "<table border=\"1\" class=\"dataframe\">\n",
       "  <thead>\n",
       "    <tr style=\"text-align: right;\">\n",
       "      <th></th>\n",
       "      <th>BRANCH</th>\n",
       "      <th>YEAR</th>\n",
       "      <th>MONTH</th>\n",
       "      <th>CIRCULATION</th>\n",
       "      <th>COMPUTER_SESSIONS</th>\n",
       "      <th>VISITORS</th>\n",
       "    </tr>\n",
       "  </thead>\n",
       "  <tbody>\n",
       "    <tr>\n",
       "      <th>0</th>\n",
       "      <td>Albany Park</td>\n",
       "      <td>2011</td>\n",
       "      <td>1</td>\n",
       "      <td>8427.0</td>\n",
       "      <td>1666.0</td>\n",
       "      <td>9604.0</td>\n",
       "    </tr>\n",
       "    <tr>\n",
       "      <th>1</th>\n",
       "      <td>Albany Park</td>\n",
       "      <td>2011</td>\n",
       "      <td>2</td>\n",
       "      <td>7023.0</td>\n",
       "      <td>1296.0</td>\n",
       "      <td>10500.0</td>\n",
       "    </tr>\n",
       "    <tr>\n",
       "      <th>2</th>\n",
       "      <td>Albany Park</td>\n",
       "      <td>2011</td>\n",
       "      <td>3</td>\n",
       "      <td>9702.0</td>\n",
       "      <td>1735.0</td>\n",
       "      <td>9050.0</td>\n",
       "    </tr>\n",
       "    <tr>\n",
       "      <th>3</th>\n",
       "      <td>Albany Park</td>\n",
       "      <td>2011</td>\n",
       "      <td>4</td>\n",
       "      <td>9344.0</td>\n",
       "      <td>1841.0</td>\n",
       "      <td>9300.0</td>\n",
       "    </tr>\n",
       "    <tr>\n",
       "      <th>4</th>\n",
       "      <td>Albany Park</td>\n",
       "      <td>2011</td>\n",
       "      <td>5</td>\n",
       "      <td>8865.0</td>\n",
       "      <td>1683.0</td>\n",
       "      <td>8271.0</td>\n",
       "    </tr>\n",
       "    <tr>\n",
       "      <th>...</th>\n",
       "      <td>...</td>\n",
       "      <td>...</td>\n",
       "      <td>...</td>\n",
       "      <td>...</td>\n",
       "      <td>...</td>\n",
       "      <td>...</td>\n",
       "    </tr>\n",
       "    <tr>\n",
       "      <th>11875</th>\n",
       "      <td>Wrightwood-Ashburn</td>\n",
       "      <td>2022</td>\n",
       "      <td>12</td>\n",
       "      <td>575.0</td>\n",
       "      <td>511.0</td>\n",
       "      <td>1410.0</td>\n",
       "    </tr>\n",
       "    <tr>\n",
       "      <th>11876</th>\n",
       "      <td>Wrightwood-Ashburn</td>\n",
       "      <td>2023</td>\n",
       "      <td>1</td>\n",
       "      <td>658.0</td>\n",
       "      <td>577.0</td>\n",
       "      <td>1625.0</td>\n",
       "    </tr>\n",
       "    <tr>\n",
       "      <th>11877</th>\n",
       "      <td>Wrightwood-Ashburn</td>\n",
       "      <td>2023</td>\n",
       "      <td>2</td>\n",
       "      <td>683.0</td>\n",
       "      <td>561.0</td>\n",
       "      <td>12146.0</td>\n",
       "    </tr>\n",
       "    <tr>\n",
       "      <th>11878</th>\n",
       "      <td>Wrightwood-Ashburn</td>\n",
       "      <td>2023</td>\n",
       "      <td>3</td>\n",
       "      <td>834.0</td>\n",
       "      <td>806.0</td>\n",
       "      <td>6312.0</td>\n",
       "    </tr>\n",
       "    <tr>\n",
       "      <th>11879</th>\n",
       "      <td>Wrightwood-Ashburn</td>\n",
       "      <td>2023</td>\n",
       "      <td>4</td>\n",
       "      <td>1038.0</td>\n",
       "      <td>757.0</td>\n",
       "      <td>4074.0</td>\n",
       "    </tr>\n",
       "  </tbody>\n",
       "</table>\n",
       "<p>11065 rows × 6 columns</p>\n",
       "</div>"
      ],
      "text/plain": [
       "                   BRANCH  YEAR  MONTH  CIRCULATION  COMPUTER_SESSIONS  \\\n",
       "0             Albany Park  2011      1       8427.0             1666.0   \n",
       "1             Albany Park  2011      2       7023.0             1296.0   \n",
       "2             Albany Park  2011      3       9702.0             1735.0   \n",
       "3             Albany Park  2011      4       9344.0             1841.0   \n",
       "4             Albany Park  2011      5       8865.0             1683.0   \n",
       "...                   ...   ...    ...          ...                ...   \n",
       "11875  Wrightwood-Ashburn  2022     12        575.0              511.0   \n",
       "11876  Wrightwood-Ashburn  2023      1        658.0              577.0   \n",
       "11877  Wrightwood-Ashburn  2023      2        683.0              561.0   \n",
       "11878  Wrightwood-Ashburn  2023      3        834.0              806.0   \n",
       "11879  Wrightwood-Ashburn  2023      4       1038.0              757.0   \n",
       "\n",
       "       VISITORS  \n",
       "0        9604.0  \n",
       "1       10500.0  \n",
       "2        9050.0  \n",
       "3        9300.0  \n",
       "4        8271.0  \n",
       "...         ...  \n",
       "11875    1410.0  \n",
       "11876    1625.0  \n",
       "11877   12146.0  \n",
       "11878    6312.0  \n",
       "11879    4074.0  \n",
       "\n",
       "[11065 rows x 6 columns]"
      ]
     },
     "execution_count": 179,
     "metadata": {},
     "output_type": "execute_result"
    }
   ],
   "source": [
    "#Removing rows with 0 in the COMPUTER_SESSIOONS and VISITORS column\n",
    "branchMetrics = branchMetrics[(branchMetrics['VISITORS'] > 0) & (branchMetrics['COMPUTER_SESSIONS'] > 0)]\n",
    "branchMetrics"
   ]
  },
  {
   "cell_type": "code",
   "execution_count": 180,
   "id": "338870a9-3b35-427e-9077-6f4cb171f770",
   "metadata": {
    "tags": []
   },
   "outputs": [
    {
     "data": {
      "text/plain": [
       "81"
      ]
     },
     "execution_count": 180,
     "metadata": {},
     "output_type": "execute_result"
    }
   ],
   "source": [
    "branchMetrics.BRANCH.unique().size"
   ]
  },
  {
   "cell_type": "code",
   "execution_count": 181,
   "id": "71b45797-5f2e-4584-9953-8b77db236763",
   "metadata": {
    "tags": []
   },
   "outputs": [
    {
     "data": {
      "text/html": [
       "<div>\n",
       "<style scoped>\n",
       "    .dataframe tbody tr th:only-of-type {\n",
       "        vertical-align: middle;\n",
       "    }\n",
       "\n",
       "    .dataframe tbody tr th {\n",
       "        vertical-align: top;\n",
       "    }\n",
       "\n",
       "    .dataframe thead th {\n",
       "        text-align: right;\n",
       "    }\n",
       "</style>\n",
       "<table border=\"1\" class=\"dataframe\">\n",
       "  <thead>\n",
       "    <tr style=\"text-align: right;\">\n",
       "      <th></th>\n",
       "      <th></th>\n",
       "      <th>MONTH</th>\n",
       "      <th>CIRCULATION</th>\n",
       "      <th>COMPUTER_SESSIONS</th>\n",
       "      <th>VISITORS</th>\n",
       "    </tr>\n",
       "    <tr>\n",
       "      <th>YEAR</th>\n",
       "      <th>BRANCH</th>\n",
       "      <th></th>\n",
       "      <th></th>\n",
       "      <th></th>\n",
       "      <th></th>\n",
       "    </tr>\n",
       "  </thead>\n",
       "  <tbody>\n",
       "    <tr>\n",
       "      <th rowspan=\"5\" valign=\"top\">2011</th>\n",
       "      <th>Albany Park</th>\n",
       "      <td>78</td>\n",
       "      <td>120059.0</td>\n",
       "      <td>21966.0</td>\n",
       "      <td>117425.0</td>\n",
       "    </tr>\n",
       "    <tr>\n",
       "      <th>Altgeld</th>\n",
       "      <td>78</td>\n",
       "      <td>9611.0</td>\n",
       "      <td>31782.0</td>\n",
       "      <td>58657.0</td>\n",
       "    </tr>\n",
       "    <tr>\n",
       "      <th>Archer Heights</th>\n",
       "      <td>78</td>\n",
       "      <td>101951.0</td>\n",
       "      <td>25321.0</td>\n",
       "      <td>124653.0</td>\n",
       "    </tr>\n",
       "    <tr>\n",
       "      <th>Austin</th>\n",
       "      <td>78</td>\n",
       "      <td>25527.0</td>\n",
       "      <td>33207.0</td>\n",
       "      <td>102306.0</td>\n",
       "    </tr>\n",
       "    <tr>\n",
       "      <th>Austin-Irving</th>\n",
       "      <td>78</td>\n",
       "      <td>165634.0</td>\n",
       "      <td>35093.0</td>\n",
       "      <td>145852.0</td>\n",
       "    </tr>\n",
       "    <tr>\n",
       "      <th>...</th>\n",
       "      <th>...</th>\n",
       "      <td>...</td>\n",
       "      <td>...</td>\n",
       "      <td>...</td>\n",
       "      <td>...</td>\n",
       "    </tr>\n",
       "    <tr>\n",
       "      <th rowspan=\"5\" valign=\"top\">2023</th>\n",
       "      <th>West Pullman</th>\n",
       "      <td>10</td>\n",
       "      <td>3325.0</td>\n",
       "      <td>4629.0</td>\n",
       "      <td>23966.0</td>\n",
       "    </tr>\n",
       "    <tr>\n",
       "      <th>West Town</th>\n",
       "      <td>10</td>\n",
       "      <td>18885.0</td>\n",
       "      <td>4329.0</td>\n",
       "      <td>29180.0</td>\n",
       "    </tr>\n",
       "    <tr>\n",
       "      <th>Whitney M. Young, Jr.</th>\n",
       "      <td>10</td>\n",
       "      <td>3068.0</td>\n",
       "      <td>6402.0</td>\n",
       "      <td>14232.0</td>\n",
       "    </tr>\n",
       "    <tr>\n",
       "      <th>Woodson Regional</th>\n",
       "      <td>10</td>\n",
       "      <td>8480.0</td>\n",
       "      <td>12663.0</td>\n",
       "      <td>24108.0</td>\n",
       "    </tr>\n",
       "    <tr>\n",
       "      <th>Wrightwood-Ashburn</th>\n",
       "      <td>10</td>\n",
       "      <td>3213.0</td>\n",
       "      <td>2701.0</td>\n",
       "      <td>24157.0</td>\n",
       "    </tr>\n",
       "  </tbody>\n",
       "</table>\n",
       "<p>1012 rows × 4 columns</p>\n",
       "</div>"
      ],
      "text/plain": [
       "                            MONTH  CIRCULATION  COMPUTER_SESSIONS  VISITORS\n",
       "YEAR BRANCH                                                                \n",
       "2011 Albany Park               78     120059.0            21966.0  117425.0\n",
       "     Altgeld                   78       9611.0            31782.0   58657.0\n",
       "     Archer Heights            78     101951.0            25321.0  124653.0\n",
       "     Austin                    78      25527.0            33207.0  102306.0\n",
       "     Austin-Irving             78     165634.0            35093.0  145852.0\n",
       "...                           ...          ...                ...       ...\n",
       "2023 West Pullman              10       3325.0             4629.0   23966.0\n",
       "     West Town                 10      18885.0             4329.0   29180.0\n",
       "     Whitney M. Young, Jr.     10       3068.0             6402.0   14232.0\n",
       "     Woodson Regional          10       8480.0            12663.0   24108.0\n",
       "     Wrightwood-Ashburn        10       3213.0             2701.0   24157.0\n",
       "\n",
       "[1012 rows x 4 columns]"
      ]
     },
     "execution_count": 181,
     "metadata": {},
     "output_type": "execute_result"
    }
   ],
   "source": [
    "#getting sums of Circulation, Computer_Sessions, and Visitors in each branch by year\n",
    "metricsByYear = branchMetrics.groupby(['YEAR','BRANCH']).sum()\n",
    "metricsByYear"
   ]
  },
  {
   "cell_type": "code",
   "execution_count": 182,
   "id": "38278bf9-c919-491c-9eae-b82a537c6bb6",
   "metadata": {
    "tags": []
   },
   "outputs": [],
   "source": [
    "#Resetting the index for metricsByYear and mergind with location data\n",
    "metricsByYear.reset_index(inplace = True)\n",
    "#metricsByYear"
   ]
  },
  {
   "cell_type": "code",
   "execution_count": 183,
   "id": "33e91b11-a509-4652-88e6-b6643fd4fff4",
   "metadata": {
    "tags": []
   },
   "outputs": [
    {
     "data": {
      "text/plain": [
       "81"
      ]
     },
     "execution_count": 183,
     "metadata": {},
     "output_type": "execute_result"
    }
   ],
   "source": [
    "metricsByYear.BRANCH.unique().size"
   ]
  },
  {
   "cell_type": "code",
   "execution_count": 184,
   "id": "f2d9481b-58f1-4fac-a03f-f125588cfc74",
   "metadata": {
    "tags": []
   },
   "outputs": [],
   "source": [
    "metricsByYear = metricsByYear.merge(branchLocations)\n",
    "#metricsByYear"
   ]
  },
  {
   "cell_type": "code",
   "execution_count": 185,
   "id": "2d9c845a-ff6a-49f8-b685-63df111317be",
   "metadata": {
    "tags": []
   },
   "outputs": [
    {
     "data": {
      "text/plain": [
       "80"
      ]
     },
     "execution_count": 185,
     "metadata": {},
     "output_type": "execute_result"
    }
   ],
   "source": [
    "metricsByYear.BRANCH.unique().size"
   ]
  },
  {
   "cell_type": "code",
   "execution_count": 186,
   "id": "d2c7330a-2075-44b4-9097-8d55eb153ef9",
   "metadata": {
    "tags": []
   },
   "outputs": [
    {
     "data": {
      "text/plain": [
       "['Woodson Regional']"
      ]
     },
     "execution_count": 186,
     "metadata": {},
     "output_type": "execute_result"
    }
   ],
   "source": [
    "#The groupby year and branch data seems to leave out one branch, so we are determining which is left out. I found that Woodson Regional\n",
    "#was left out because it is called Woodson Regional Library in the branch_metrics.csv and therefore it was lost during the merge.metricsByYear.BRANCH.unique().size\n",
    "list(set(branchMetrics.BRANCH.unique()) - set(metricsByYear.BRANCH.unique()))"
   ]
  },
  {
   "cell_type": "code",
   "execution_count": 187,
   "id": "f1f08439-a24d-478c-89ef-dbebb938ae68",
   "metadata": {
    "tags": []
   },
   "outputs": [
    {
     "data": {
      "text/plain": [
       "array(['Albany Park', 'Altgeld', 'Archer Heights', 'Austin',\n",
       "       'Austin-Irving', 'Avalon', 'Back of the Yards', 'Beverly',\n",
       "       'Bezazian', 'Blackstone', 'Brainerd', 'Brighton Park',\n",
       "       'Bucktown-Wicker Park', 'Budlong Woods', 'Canaryville',\n",
       "       'Chicago Bee', 'Chicago Lawn', 'Chinatown', 'Clearing', 'Coleman',\n",
       "       'Daley, Richard J. - Bridgeport',\n",
       "       'Daley, Richard M. - W. Humboldt', 'Douglass', 'Dunning',\n",
       "       'Edgebrook', 'Edgewater', 'Gage Park', 'Garfield Ridge',\n",
       "       'Greater Grand Crossing', 'Hall',\n",
       "       'Harold Washington Library Center', 'Hegewisch', 'Humboldt Park',\n",
       "       'Independence', 'Jefferson Park', 'Jeffery Manor', 'Kelly', 'King',\n",
       "       'Legler Regional', 'Lincoln Belmont', 'Lincoln Park',\n",
       "       'Little Italy', 'Little Village', 'Logan Square', 'Lozano',\n",
       "       'Manning', 'Mayfair', 'McKinley Park', 'Merlo', 'Mount Greenwood',\n",
       "       'Near North', 'North Austin', 'North Pulaski', 'Northtown',\n",
       "       'Oriole Park', 'Portage-Cragin', 'Pullman', 'Roden', 'Rogers Park',\n",
       "       'Roosevelt', 'Scottsdale', 'Sherman Park', 'South Chicago',\n",
       "       'South Shore', 'Sulzer Regional', 'Thurgood Marshall', 'Toman',\n",
       "       'Uptown', 'Vodak-East Side', 'Walker', 'Water Works',\n",
       "       'West Belmont', 'West Chicago Avenue', 'West Englewood',\n",
       "       'West Lawn', 'West Loop', 'West Pullman', 'West Town',\n",
       "       'Whitney M. Young, Jr.', 'Woodson Regional', 'Wrightwood-Ashburn'],\n",
       "      dtype=object)"
      ]
     },
     "execution_count": 187,
     "metadata": {},
     "output_type": "execute_result"
    }
   ],
   "source": [
    "#Checking branch names before replacing\n",
    "branchMetrics.BRANCH.unique()"
   ]
  },
  {
   "cell_type": "code",
   "execution_count": 188,
   "id": "ae8ca6cf-28ea-4d6b-a758-e468dbedd849",
   "metadata": {
    "tags": []
   },
   "outputs": [
    {
     "data": {
      "text/plain": [
       "array(['Albany Park', 'Altgeld', 'Archer Heights', 'Austin',\n",
       "       'Austin-Irving', 'Avalon', 'Back of the Yards', 'Beverly',\n",
       "       'Bezazian', 'Blackstone', 'Brainerd', 'Brighton Park',\n",
       "       'Bucktown-Wicker Park', 'Budlong Woods', 'Canaryville',\n",
       "       'Chicago Bee', 'Chicago Lawn', 'Chinatown', 'Clearing', 'Coleman',\n",
       "       'Daley, Richard J. - Bridgeport',\n",
       "       'Daley, Richard M. - W. Humboldt', 'Douglass', 'Dunning',\n",
       "       'Edgebrook', 'Edgewater', 'Gage Park', 'Garfield Ridge',\n",
       "       'Greater Grand Crossing', 'Hall',\n",
       "       'Harold Washington Library Center', 'Hegewisch', 'Humboldt Park',\n",
       "       'Independence', 'Jefferson Park', 'Jeffery Manor', 'Kelly', 'King',\n",
       "       'Legler Regional', 'Lincoln Belmont', 'Lincoln Park',\n",
       "       'Little Italy', 'Little Village', 'Logan Square', 'Lozano',\n",
       "       'Manning', 'Mayfair', 'McKinley Park', 'Merlo', 'Mount Greenwood',\n",
       "       'Near North', 'North Austin', 'North Pulaski', 'Northtown',\n",
       "       'Oriole Park', 'Portage-Cragin', 'Pullman', 'Roden', 'Rogers Park',\n",
       "       'Roosevelt', 'Scottsdale', 'Sherman Park', 'South Chicago',\n",
       "       'South Shore', 'Sulzer Regional', 'Thurgood Marshall', 'Toman',\n",
       "       'Uptown', 'Vodak-East Side', 'Walker', 'Water Works',\n",
       "       'West Belmont', 'West Chicago Avenue', 'West Englewood',\n",
       "       'West Lawn', 'West Loop', 'West Pullman', 'West Town',\n",
       "       'Whitney M. Young, Jr.', 'Woodson Regional Library',\n",
       "       'Wrightwood-Ashburn'], dtype=object)"
      ]
     },
     "execution_count": 188,
     "metadata": {},
     "output_type": "execute_result"
    }
   ],
   "source": [
    "#replacing the branch name\n",
    "branchMetrics.loc[branchMetrics.BRANCH == 'Woodson Regional', 'BRANCH'] = 'Woodson Regional Library'\n",
    "branchMetrics.BRANCH.unique()"
   ]
  },
  {
   "cell_type": "code",
   "execution_count": 189,
   "id": "d7d4f303-5d9a-405f-bfab-4b49a512d728",
   "metadata": {
    "tags": []
   },
   "outputs": [],
   "source": [
    "#metricsByYear needs to be recreated so we can recover the data lost before the merge.\n",
    "metricsByYear = branchMetrics.groupby(['YEAR','BRANCH']).sum()\n",
    "metricsByYear.reset_index(inplace = True)\n",
    "metricsByYear = metricsByYear.merge(branchLocations)\n",
    "#Making sure there are 81 branches represented\n",
    "#metricsByYear.BRANCH.unique().size"
   ]
  },
  {
   "cell_type": "code",
   "execution_count": 190,
   "id": "5db72403-9060-4c8c-8180-e155cb7cd5f5",
   "metadata": {
    "tags": []
   },
   "outputs": [
    {
     "data": {
      "text/html": [
       "<div>\n",
       "<style scoped>\n",
       "    .dataframe tbody tr th:only-of-type {\n",
       "        vertical-align: middle;\n",
       "    }\n",
       "\n",
       "    .dataframe tbody tr th {\n",
       "        vertical-align: top;\n",
       "    }\n",
       "\n",
       "    .dataframe thead th {\n",
       "        text-align: right;\n",
       "    }\n",
       "</style>\n",
       "<table border=\"1\" class=\"dataframe\">\n",
       "  <thead>\n",
       "    <tr style=\"text-align: right;\">\n",
       "      <th></th>\n",
       "      <th>YEAR</th>\n",
       "      <th>BRANCH</th>\n",
       "      <th>CIRCULATION</th>\n",
       "      <th>COMPUTER_SESSIONS</th>\n",
       "      <th>VISITORS</th>\n",
       "      <th>LOCATION</th>\n",
       "    </tr>\n",
       "  </thead>\n",
       "  <tbody>\n",
       "    <tr>\n",
       "      <th>0</th>\n",
       "      <td>2011</td>\n",
       "      <td>Albany Park</td>\n",
       "      <td>120059.0</td>\n",
       "      <td>21966.0</td>\n",
       "      <td>117425.0</td>\n",
       "      <td>(41.97557881655979, -87.71361314512697)</td>\n",
       "    </tr>\n",
       "    <tr>\n",
       "      <th>1</th>\n",
       "      <td>2012</td>\n",
       "      <td>Albany Park</td>\n",
       "      <td>83192.0</td>\n",
       "      <td>15423.0</td>\n",
       "      <td>78485.0</td>\n",
       "      <td>(41.97557881655979, -87.71361314512697)</td>\n",
       "    </tr>\n",
       "    <tr>\n",
       "      <th>2</th>\n",
       "      <td>2014</td>\n",
       "      <td>Albany Park</td>\n",
       "      <td>50260.0</td>\n",
       "      <td>9546.0</td>\n",
       "      <td>53058.0</td>\n",
       "      <td>(41.97557881655979, -87.71361314512697)</td>\n",
       "    </tr>\n",
       "    <tr>\n",
       "      <th>3</th>\n",
       "      <td>2015</td>\n",
       "      <td>Albany Park</td>\n",
       "      <td>133366.0</td>\n",
       "      <td>37114.0</td>\n",
       "      <td>153751.0</td>\n",
       "      <td>(41.97557881655979, -87.71361314512697)</td>\n",
       "    </tr>\n",
       "    <tr>\n",
       "      <th>4</th>\n",
       "      <td>2016</td>\n",
       "      <td>Albany Park</td>\n",
       "      <td>135858.0</td>\n",
       "      <td>37025.0</td>\n",
       "      <td>159397.0</td>\n",
       "      <td>(41.97557881655979, -87.71361314512697)</td>\n",
       "    </tr>\n",
       "    <tr>\n",
       "      <th>...</th>\n",
       "      <td>...</td>\n",
       "      <td>...</td>\n",
       "      <td>...</td>\n",
       "      <td>...</td>\n",
       "      <td>...</td>\n",
       "      <td>...</td>\n",
       "    </tr>\n",
       "    <tr>\n",
       "      <th>1007</th>\n",
       "      <td>2022</td>\n",
       "      <td>West Loop</td>\n",
       "      <td>52688.0</td>\n",
       "      <td>4784.0</td>\n",
       "      <td>51137.0</td>\n",
       "      <td>(41.8837105009142, -87.6545650515331)</td>\n",
       "    </tr>\n",
       "    <tr>\n",
       "      <th>1008</th>\n",
       "      <td>2023</td>\n",
       "      <td>West Loop</td>\n",
       "      <td>18737.0</td>\n",
       "      <td>1637.0</td>\n",
       "      <td>23173.0</td>\n",
       "      <td>(41.8837105009142, -87.6545650515331)</td>\n",
       "    </tr>\n",
       "    <tr>\n",
       "      <th>1009</th>\n",
       "      <td>2021</td>\n",
       "      <td>Water Works</td>\n",
       "      <td>8516.0</td>\n",
       "      <td>306.0</td>\n",
       "      <td>10594.0</td>\n",
       "      <td>(41.897484072390675, -87.62337776811282)</td>\n",
       "    </tr>\n",
       "    <tr>\n",
       "      <th>1010</th>\n",
       "      <td>2022</td>\n",
       "      <td>Water Works</td>\n",
       "      <td>35804.0</td>\n",
       "      <td>1864.0</td>\n",
       "      <td>47594.0</td>\n",
       "      <td>(41.897484072390675, -87.62337776811282)</td>\n",
       "    </tr>\n",
       "    <tr>\n",
       "      <th>1011</th>\n",
       "      <td>2023</td>\n",
       "      <td>Water Works</td>\n",
       "      <td>11988.0</td>\n",
       "      <td>648.0</td>\n",
       "      <td>15985.0</td>\n",
       "      <td>(41.897484072390675, -87.62337776811282)</td>\n",
       "    </tr>\n",
       "  </tbody>\n",
       "</table>\n",
       "<p>1012 rows × 6 columns</p>\n",
       "</div>"
      ],
      "text/plain": [
       "      YEAR       BRANCH  CIRCULATION  COMPUTER_SESSIONS  VISITORS  \\\n",
       "0     2011  Albany Park     120059.0            21966.0  117425.0   \n",
       "1     2012  Albany Park      83192.0            15423.0   78485.0   \n",
       "2     2014  Albany Park      50260.0             9546.0   53058.0   \n",
       "3     2015  Albany Park     133366.0            37114.0  153751.0   \n",
       "4     2016  Albany Park     135858.0            37025.0  159397.0   \n",
       "...    ...          ...          ...                ...       ...   \n",
       "1007  2022    West Loop      52688.0             4784.0   51137.0   \n",
       "1008  2023    West Loop      18737.0             1637.0   23173.0   \n",
       "1009  2021  Water Works       8516.0              306.0   10594.0   \n",
       "1010  2022  Water Works      35804.0             1864.0   47594.0   \n",
       "1011  2023  Water Works      11988.0              648.0   15985.0   \n",
       "\n",
       "                                      LOCATION  \n",
       "0      (41.97557881655979, -87.71361314512697)  \n",
       "1      (41.97557881655979, -87.71361314512697)  \n",
       "2      (41.97557881655979, -87.71361314512697)  \n",
       "3      (41.97557881655979, -87.71361314512697)  \n",
       "4      (41.97557881655979, -87.71361314512697)  \n",
       "...                                        ...  \n",
       "1007     (41.8837105009142, -87.6545650515331)  \n",
       "1008     (41.8837105009142, -87.6545650515331)  \n",
       "1009  (41.897484072390675, -87.62337776811282)  \n",
       "1010  (41.897484072390675, -87.62337776811282)  \n",
       "1011  (41.897484072390675, -87.62337776811282)  \n",
       "\n",
       "[1012 rows x 6 columns]"
      ]
     },
     "execution_count": 190,
     "metadata": {},
     "output_type": "execute_result"
    }
   ],
   "source": [
    "#Dropping unnecessary data\n",
    "metricsByYear = metricsByYear[['YEAR', 'BRANCH', 'CIRCULATION', 'COMPUTER_SESSIONS', 'VISITORS', 'LOCATION']]\n",
    "metricsByYear"
   ]
  },
  {
   "cell_type": "code",
   "execution_count": 191,
   "id": "7ae5d510-9cbd-4cd5-b657-9516bedb6e7f",
   "metadata": {},
   "outputs": [],
   "source": [
    "#calculating percent change in circulation"
   ]
  },
  {
   "cell_type": "code",
   "execution_count": 192,
   "id": "e48f1414-b77e-4f1d-8ad6-d10ec5c47bd0",
   "metadata": {
    "tags": []
   },
   "outputs": [
    {
     "data": {
      "text/html": [
       "<div>\n",
       "<style scoped>\n",
       "    .dataframe tbody tr th:only-of-type {\n",
       "        vertical-align: middle;\n",
       "    }\n",
       "\n",
       "    .dataframe tbody tr th {\n",
       "        vertical-align: top;\n",
       "    }\n",
       "\n",
       "    .dataframe thead th {\n",
       "        text-align: right;\n",
       "    }\n",
       "</style>\n",
       "<table border=\"1\" class=\"dataframe\">\n",
       "  <thead>\n",
       "    <tr style=\"text-align: right;\">\n",
       "      <th></th>\n",
       "      <th>YEAR</th>\n",
       "      <th>BRANCH</th>\n",
       "      <th>CIRCULATION</th>\n",
       "      <th>COMPUTER_SESSIONS</th>\n",
       "      <th>VISITORS</th>\n",
       "      <th>LATITUDE</th>\n",
       "      <th>LONGITUDE</th>\n",
       "    </tr>\n",
       "  </thead>\n",
       "  <tbody>\n",
       "    <tr>\n",
       "      <th>0</th>\n",
       "      <td>2011</td>\n",
       "      <td>Albany Park</td>\n",
       "      <td>120059.0</td>\n",
       "      <td>21966.0</td>\n",
       "      <td>117425.0</td>\n",
       "      <td>41.975579</td>\n",
       "      <td>-87.713613</td>\n",
       "    </tr>\n",
       "    <tr>\n",
       "      <th>1</th>\n",
       "      <td>2012</td>\n",
       "      <td>Albany Park</td>\n",
       "      <td>83192.0</td>\n",
       "      <td>15423.0</td>\n",
       "      <td>78485.0</td>\n",
       "      <td>41.975579</td>\n",
       "      <td>-87.713613</td>\n",
       "    </tr>\n",
       "    <tr>\n",
       "      <th>2</th>\n",
       "      <td>2014</td>\n",
       "      <td>Albany Park</td>\n",
       "      <td>50260.0</td>\n",
       "      <td>9546.0</td>\n",
       "      <td>53058.0</td>\n",
       "      <td>41.975579</td>\n",
       "      <td>-87.713613</td>\n",
       "    </tr>\n",
       "    <tr>\n",
       "      <th>3</th>\n",
       "      <td>2015</td>\n",
       "      <td>Albany Park</td>\n",
       "      <td>133366.0</td>\n",
       "      <td>37114.0</td>\n",
       "      <td>153751.0</td>\n",
       "      <td>41.975579</td>\n",
       "      <td>-87.713613</td>\n",
       "    </tr>\n",
       "    <tr>\n",
       "      <th>4</th>\n",
       "      <td>2016</td>\n",
       "      <td>Albany Park</td>\n",
       "      <td>135858.0</td>\n",
       "      <td>37025.0</td>\n",
       "      <td>159397.0</td>\n",
       "      <td>41.975579</td>\n",
       "      <td>-87.713613</td>\n",
       "    </tr>\n",
       "    <tr>\n",
       "      <th>...</th>\n",
       "      <td>...</td>\n",
       "      <td>...</td>\n",
       "      <td>...</td>\n",
       "      <td>...</td>\n",
       "      <td>...</td>\n",
       "      <td>...</td>\n",
       "      <td>...</td>\n",
       "    </tr>\n",
       "    <tr>\n",
       "      <th>1007</th>\n",
       "      <td>2022</td>\n",
       "      <td>West Loop</td>\n",
       "      <td>52688.0</td>\n",
       "      <td>4784.0</td>\n",
       "      <td>51137.0</td>\n",
       "      <td>41.883711</td>\n",
       "      <td>-87.654565</td>\n",
       "    </tr>\n",
       "    <tr>\n",
       "      <th>1008</th>\n",
       "      <td>2023</td>\n",
       "      <td>West Loop</td>\n",
       "      <td>18737.0</td>\n",
       "      <td>1637.0</td>\n",
       "      <td>23173.0</td>\n",
       "      <td>41.883711</td>\n",
       "      <td>-87.654565</td>\n",
       "    </tr>\n",
       "    <tr>\n",
       "      <th>1009</th>\n",
       "      <td>2021</td>\n",
       "      <td>Water Works</td>\n",
       "      <td>8516.0</td>\n",
       "      <td>306.0</td>\n",
       "      <td>10594.0</td>\n",
       "      <td>41.897484</td>\n",
       "      <td>-87.623378</td>\n",
       "    </tr>\n",
       "    <tr>\n",
       "      <th>1010</th>\n",
       "      <td>2022</td>\n",
       "      <td>Water Works</td>\n",
       "      <td>35804.0</td>\n",
       "      <td>1864.0</td>\n",
       "      <td>47594.0</td>\n",
       "      <td>41.897484</td>\n",
       "      <td>-87.623378</td>\n",
       "    </tr>\n",
       "    <tr>\n",
       "      <th>1011</th>\n",
       "      <td>2023</td>\n",
       "      <td>Water Works</td>\n",
       "      <td>11988.0</td>\n",
       "      <td>648.0</td>\n",
       "      <td>15985.0</td>\n",
       "      <td>41.897484</td>\n",
       "      <td>-87.623378</td>\n",
       "    </tr>\n",
       "  </tbody>\n",
       "</table>\n",
       "<p>1012 rows × 7 columns</p>\n",
       "</div>"
      ],
      "text/plain": [
       "      YEAR       BRANCH  CIRCULATION  COMPUTER_SESSIONS  VISITORS   LATITUDE  \\\n",
       "0     2011  Albany Park     120059.0            21966.0  117425.0  41.975579   \n",
       "1     2012  Albany Park      83192.0            15423.0   78485.0  41.975579   \n",
       "2     2014  Albany Park      50260.0             9546.0   53058.0  41.975579   \n",
       "3     2015  Albany Park     133366.0            37114.0  153751.0  41.975579   \n",
       "4     2016  Albany Park     135858.0            37025.0  159397.0  41.975579   \n",
       "...    ...          ...          ...                ...       ...        ...   \n",
       "1007  2022    West Loop      52688.0             4784.0   51137.0  41.883711   \n",
       "1008  2023    West Loop      18737.0             1637.0   23173.0  41.883711   \n",
       "1009  2021  Water Works       8516.0              306.0   10594.0  41.897484   \n",
       "1010  2022  Water Works      35804.0             1864.0   47594.0  41.897484   \n",
       "1011  2023  Water Works      11988.0              648.0   15985.0  41.897484   \n",
       "\n",
       "      LONGITUDE  \n",
       "0    -87.713613  \n",
       "1    -87.713613  \n",
       "2    -87.713613  \n",
       "3    -87.713613  \n",
       "4    -87.713613  \n",
       "...         ...  \n",
       "1007 -87.654565  \n",
       "1008 -87.654565  \n",
       "1009 -87.623378  \n",
       "1010 -87.623378  \n",
       "1011 -87.623378  \n",
       "\n",
       "[1012 rows x 7 columns]"
      ]
     },
     "execution_count": 192,
     "metadata": {},
     "output_type": "execute_result"
    }
   ],
   "source": [
    "#Replacing Location with longitude and latitude columns\n",
    "import ast\n",
    "metricsByYear[['LATITUDE', 'LONGITUDE']] = [ast.literal_eval(x)[:2] for x in metricsByYear['LOCATION']]\n",
    "metricsByYear = metricsByYear.drop(columns='LOCATION')\n",
    "metricsByYear"
   ]
  },
  {
   "cell_type": "code",
   "execution_count": 193,
   "id": "ac612bc5-6c74-4f7c-9505-a27c33c4eeab",
   "metadata": {
    "tags": []
   },
   "outputs": [],
   "source": [
    "#new_branch_calc = pd.read_csv('../data/clean/branch_metrics.csv')\n",
    "\n",
    "#circ_19_22 = branch_metrics.loc[(branch_metrics['YEAR']==2019)|(branch_metrics['YEAR']==2022)]\n",
    "#circ_19_22 = circ_19_22.groupby(['BRANCH', 'YEAR'])[['CIRCULATION']].mean().unstack()\n",
    "#circ_19_22['PERCENT CHANGE'] = ((circ_19_22['CIRCULATION'][2022]-circ_19_22['CIRCULATION'][2019])/circ_19_22['CIRCULATION'][2019])*100\n",
    "#circ_19_22.head(5)\n",
    "#circ_percent_change_19_22 = circ_19_22[['PERCENT CHANGE']].reset_index()"
   ]
  },
  {
   "cell_type": "code",
   "execution_count": 203,
   "id": "b278ad3c-4656-4cae-a882-bb72412b5725",
   "metadata": {
    "tags": []
   },
   "outputs": [],
   "source": [
    "#df is the dataframe you would use, latitude is the latitude metric, longitude is the longitude metric, branch is the library branch name column,\n",
    "#timelapse is the duration over which you want to observe your data, maptitle is the title you want for your map.\n",
    "def scatterMapBoxOverTime(df,latitude,longitude,branch,metric,timelapse,maptitle):\n",
    "    fig = px.scatter_mapbox(df, lat=latitude, lon=longitude, color=branch,size=metric, \n",
    "                            color_continuous_scale=[\"black\", \"purple\", \"red\" ],\n",
    "                            animation_frame= timelapse, size_max=30, height = 600,\n",
    "                            width = 1000, title= maptitle, mapbox_style=\"open-street-map\")\n",
    "    return fig\n",
    "\n",
    "\n",
    "#figureExample = scatterMapBoxOverTime(metricsByYear,'LATITUDE','LONGITUDE','BRANCH','VISITORS','YEAR','This is an example')\n",
    "#figureExample.show()"
   ]
  },
  {
   "cell_type": "code",
   "execution_count": 202,
   "id": "7a5c36e8-20b0-4c25-ae87-6659365858fc",
   "metadata": {},
   "outputs": [],
   "source": [
    "#df is the dataframe you would use, latitude is the latitude metric, longitude is the longitude metric, branch is the library branch name column,\n",
    "#timelapse is the duration over which you want to observe your data, maptitle is the title you want for your map.\n",
    "#calcChangeMetrics = pd.DataFrame()\n",
    "calcChangeMetrics = metricsByYear[['YEAR', 'BRANCH', 'CIRCULATION', 'LATITUDE', 'LONGITUDE']]\n",
    "calcChangeMetrics = calcChangeMetrics.loc[(calcChangeMetrics['YEAR']==2019)|(calcChangeMetrics['YEAR']==2022)]\n",
    "calcChangeMetrics = calcChangeMetrics.groupby(['BRANCH', 'YEAR'])[['CIRCULATION','LATITUDE', 'LONGITUDE']].mean().unstack().reset_index()\n",
    "calcChangeMetrics['PERCENT CHANGE'] = ((calcChangeMetrics['CIRCULATION'][2022]-calcChangeMetrics['CIRCULATION'][2019])/calcChangeMetrics['CIRCULATION'][2019])*100\n",
    "#print(calcChangeMetrics)\n",
    "\n",
    "pChangeMetrics = metricsByYear[['BRANCH', 'LATITUDE', 'LONGITUDE']]\n",
    "pChangeMetrics = pChangeMetrics.groupby(['BRANCH'])[['LATITUDE','LONGITUDE']].mean().reset_index()\n",
    "#pChangeMetrics = pChangeMetrics.reset_index(inplace=True)\n",
    "pChangeMetrics['PERCENT CHANGE CIRCULATION'] = calcChangeMetrics['PERCENT CHANGE']\n",
    "#print(pChangeMetrics)\n",
    "\n",
    "#growth = pChangeMetrics.loc[pChangeMetrics['PERCENT CHANGE CIRCULATION'] > 0] # libraries that grew\n",
    "pChangeMetrics = pChangeMetrics.loc[pChangeMetrics['PERCENT CHANGE CIRCULATION'] < 0]\n",
    "pChangeMetrics['PERCENT CHANGE CIRCULATION'] = pChangeMetrics['PERCENT CHANGE CIRCULATION']*-1\n",
    "\n",
    "def scatterMapBox(df,latitude,longitude,branch,metric,maptitle):\n",
    "    fig = px.scatter_mapbox(df, lat=latitude, lon=longitude, color=branch,size=metric, \n",
    "                            color_continuous_scale=[\"black\", \"purple\", \"red\" ], size_max=20, height = 600,\n",
    "                            width = 1000, title= maptitle, mapbox_style=\"open-street-map\")\n",
    "    return fig\n",
    "\n",
    "\n",
    "figureExample = scatterMapBox(pChangeMetrics,'LATITUDE','LONGITUDE','BRANCH','PERCENT CHANGE CIRCULATION','This is an example')\n",
    "figureExample.show()"
   ]
  },
  {
   "cell_type": "markdown",
   "id": "4a8a415f-13f2-45fe-8e57-484b5c20ea4a",
   "metadata": {},
   "source": [
    "The following cell allows users to create bubble maps that animate going month by month over the entire period represented in the data (2011-2023). Follow the example in the last rows of the cell to produce the bubble map with the desired metric. "
   ]
  },
  {
   "cell_type": "code",
   "execution_count": 207,
   "id": "535aba40-09dd-4d21-bed1-0aa939ddf2f8",
   "metadata": {
    "tags": []
   },
   "outputs": [],
   "source": [
    "branchMetricsMod = branchMetrics.copy(deep=True)\n",
    "branchMetricsMod\n",
    "\n",
    "branchMetricsMod['DATE'] = pd.to_datetime(branchMetricsMod[['YEAR', 'MONTH']].assign(DAY=1))\n",
    "\n",
    "metricsByDate = branchMetricsMod.groupby(['DATE','BRANCH']).sum()\n",
    "metricsByDate.reset_index(inplace = True)\n",
    "metricsByDate = metricsByDate.merge(branchLocations)\n",
    "\n",
    "metricsByDate = metricsByDate[['DATE', 'BRANCH', 'CIRCULATION', 'COMPUTER_SESSIONS', 'VISITORS', 'LOCATION']]\n",
    "\n",
    "metricsByDate[['LATITUDE', 'LONGITUDE']] = [ast.literal_eval(x)[:2] for x in metricsByDate['LOCATION']]\n",
    "metricsByDate = metricsByDate.drop(columns='LOCATION')\n",
    "metricsByDate\n",
    "metricsByDate = metricsByDate.sort_values(by='DATE', ascending=True)\n",
    "\n",
    "#figureExample = scatterMapBoxOverTime(metricsByDate,'LATITUDE','LONGITUDE','BRANCH','VISITORS','DATE','Chicago Public Library Visitors Over Time')\n",
    "#figureExample.show()"
   ]
  },
  {
   "cell_type": "code",
   "execution_count": null,
   "id": "f1eee850-459c-4c54-a052-3c0ff3bc1888",
   "metadata": {},
   "outputs": [],
   "source": []
  }
 ],
 "metadata": {
  "kernelspec": {
   "display_name": "Python 3 (ipykernel)",
   "language": "python",
   "name": "python3"
  },
  "language_info": {
   "codemirror_mode": {
    "name": "ipython",
    "version": 3
   },
   "file_extension": ".py",
   "mimetype": "text/x-python",
   "name": "python",
   "nbconvert_exporter": "python",
   "pygments_lexer": "ipython3",
   "version": "3.9.7"
  }
 },
 "nbformat": 4,
 "nbformat_minor": 5
}
